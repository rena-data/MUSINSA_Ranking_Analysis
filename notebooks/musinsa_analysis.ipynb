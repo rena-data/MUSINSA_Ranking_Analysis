{
 "cells": [
  {
   "cell_type": "markdown",
   "metadata": {},
   "source": [
    "# 무신사 랭킹 데이터 분석\n",
    "\n",
    "무신사 전체 카테고리 상위 100개 상품에 대한 데이터 분석"
   ]
  },
  {
   "cell_type": "code",
   "execution_count": null,
   "metadata": {},
   "outputs": [],
   "source": [
    "# 필요한 라이브러리 임포트\n",
    "import pandas as pd\n",
    "import numpy as np\n",
    "import matplotlib.pyplot as plt\n",
    "import seaborn as sns\n",
    "from matplotlib import font_manager, rc\n",
    "\n",
    "# 한글 폰트 설정\n",
    "plt.rcParams['font.family'] = 'AppleGothic'\n",
    "plt.rcParams['axes.unicode_minus'] = False\n",
    "\n",
    "# 시각화 스타일 설정\n",
    "sns.set_style('whitegrid')\n",
    "plt.rcParams['figure.figsize'] = (12, 8)"
   ]
  },
  {
   "cell_type": "code",
   "execution_count": null,
   "metadata": {},
   "outputs": [],
   "source": [
    "# 데이터 로드\n",
    "df = pd.read_excel('../data/musinsa_ranking.xlsx')\n",
    "print(f\"데이터 shape: {df.shape}\")\n",
    "print(\"\\n컬럼 정보:\")\n",
    "print(df.columns.tolist())\n",
    "print(\"\\n데이터 미리보기:\")\n",
    "df.head()"
   ]
  },
  {
   "cell_type": "code",
   "execution_count": null,
   "metadata": {},
   "outputs": [],
   "source": [
    "# 기본 통계 정보\n",
    "print(\"기본 통계 정보:\")\n",
    "df.describe()"
   ]
  },
  {
   "cell_type": "markdown",
   "metadata": {},
   "source": [
    "## 1. 브랜드 분석"
   ]
  },
  {
   "cell_type": "code",
   "execution_count": null,
   "metadata": {},
   "outputs": [],
   "source": [
    "# 브랜드별 상품 수 Top 15\n",
    "brand_counts = df['브랜드'].value_counts().head(15)\n",
    "\n",
    "plt.figure(figsize=(12, 8))\n",
    "brand_counts.plot(kind='bar', color='skyblue')\n",
    "plt.title('상위 100개 상품 중 브랜드별 상품 수 (Top 15)', fontsize=16, fontweight='bold')\n",
    "plt.xlabel('브랜드', fontsize=12)\n",
    "plt.ylabel('상품 수', fontsize=12)\n",
    "plt.xticks(rotation=45, ha='right')\n",
    "\n",
    "# 값 표시\n",
    "for i, v in enumerate(brand_counts.values):\n",
    "    plt.text(i, v + 0.1, str(v), ha='center', va='bottom')\n",
    "\n",
    "plt.tight_layout()\n",
    "plt.show()\n",
    "\n",
    "print(f\"\\n가장 많은 상품을 보유한 브랜드: {brand_counts.index[0]} ({brand_counts.values[0]}개)\")"
   ]
  },
  {
   "cell_type": "markdown",
   "metadata": {},
   "source": [
    "## 2. 가격 분석"
   ]
  },
  {
   "cell_type": "code",
   "execution_count": null,
   "metadata": {},
   "outputs": [],
   "source": [
    "# 가격 분포 히스토그램\n",
    "plt.figure(figsize=(12, 6))\n",
    "\n",
    "plt.subplot(1, 2, 1)\n",
    "plt.hist(df['현재가격'], bins=30, color='lightcoral', edgecolor='black', alpha=0.7)\n",
    "plt.title('현재 가격 분포', fontsize=14, fontweight='bold')\n",
    "plt.xlabel('가격 (원)', fontsize=12)\n",
    "plt.ylabel('상품 수', fontsize=12)\n",
    "\n",
    "plt.subplot(1, 2, 2)\n",
    "plt.boxplot(df['현재가격'])\n",
    "plt.title('현재 가격 박스플롯', fontsize=14, fontweight='bold')\n",
    "plt.ylabel('가격 (원)', fontsize=12)\n",
    "\n",
    "plt.tight_layout()\n",
    "plt.show()\n",
    "\n",
    "print(f\"평균 가격: {df['현재가격'].mean():,.0f}원\")\n",
    "print(f\"중간값: {df['현재가격'].median():,.0f}원\")\n",
    "print(f\"최저가: {df['현재가격'].min():,.0f}원\")\n",
    "print(f\"최고가: {df['현재가격'].max():,.0f}원\")"
   ]
  },
  {
   "cell_type": "code",
   "execution_count": null,
   "metadata": {},
   "outputs": [],
   "source": [
    "# 가격대별 상품 분포\n",
    "price_ranges = ['0-3만원', '3-5만원', '5-10만원', '10-20만원', '20만원 이상']\n",
    "price_counts = pd.cut(df['현재가격'], \n",
    "                      bins=[0, 30000, 50000, 100000, 200000, float('inf')],\n",
    "                      labels=price_ranges).value_counts()\n",
    "\n",
    "plt.figure(figsize=(10, 8))\n",
    "colors = plt.cm.Set3(range(len(price_counts)))\n",
    "plt.pie(price_counts.values, labels=price_counts.index, autopct='%1.1f%%', \n",
    "        colors=colors, startangle=90)\n",
    "plt.title('가격대별 상품 분포', fontsize=16, fontweight='bold')\n",
    "plt.axis('equal')\n",
    "plt.show()"
   ]
  },
  {
   "cell_type": "markdown",
   "metadata": {},
   "source": [
    "## 3. 할인율 분석"
   ]
  },
  {
   "cell_type": "code",
   "execution_count": null,
   "metadata": {},
   "outputs": [],
   "source": [
    "# 할인율 분포\n",
    "plt.figure(figsize=(12, 6))\n",
    "\n",
    "# 할인 상품만 필터링\n",
    "discounted_items = df[df['할인율'] > 0]\n",
    "\n",
    "plt.subplot(1, 2, 1)\n",
    "plt.hist(discounted_items['할인율'], bins=20, color='lightgreen', edgecolor='black', alpha=0.7)\n",
    "plt.title('할인율 분포 (할인 상품만)', fontsize=14, fontweight='bold')\n",
    "plt.xlabel('할인율 (%)', fontsize=12)\n",
    "plt.ylabel('상품 수', fontsize=12)\n",
    "\n",
    "plt.subplot(1, 2, 2)\n",
    "discount_categories = ['할인 없음', '1-10%', '11-30%', '31-50%', '50% 이상']\n",
    "discount_counts = pd.cut(df['할인율'], \n",
    "                        bins=[-1, 0, 10, 30, 50, 100],\n",
    "                        labels=discount_categories).value_counts()\n",
    "\n",
    "discount_counts.plot(kind='bar', color='lightgreen')\n",
    "plt.title('할인율 구간별 상품 수', fontsize=14, fontweight='bold')\n",
    "plt.xlabel('할인율 구간', fontsize=12)\n",
    "plt.ylabel('상품 수', fontsize=12)\n",
    "plt.xticks(rotation=45)\n",
    "\n",
    "# 값 표시\n",
    "for i, v in enumerate(discount_counts.values):\n",
    "    plt.text(i, v + 0.5, str(v), ha='center', va='bottom')\n",
    "\n",
    "plt.tight_layout()\n",
    "plt.show()\n",
    "\n",
    "print(f\"할인 상품 비율: {(df['할인율'] > 0).sum() / len(df) * 100:.1f}%\")\n",
    "print(f\"평균 할인율 (할인 상품만): {discounted_items['할인율'].mean():.1f}%\")"
   ]
  },
  {
   "cell_type": "markdown",
   "metadata": {},
   "source": [
    "## 4. 평점 및 리뷰 분석"
   ]
  },
  {
   "cell_type": "code",
   "execution_count": null,
   "metadata": {},
   "outputs": [],
   "source": [
    "# 평점 분포\n",
    "plt.figure(figsize=(12, 6))\n",
    "\n",
    "plt.subplot(1, 2, 1)\n",
    "rating_items = df[df['평점'] > 0]\n",
    "plt.hist(rating_items['평점'], bins=20, color='gold', edgecolor='black', alpha=0.7)\n",
    "plt.title('평점 분포', fontsize=14, fontweight='bold')\n",
    "plt.xlabel('평점', fontsize=12)\n",
    "plt.ylabel('상품 수', fontsize=12)\n",
    "\n",
    "plt.subplot(1, 2, 2)\n",
    "# 리뷰 수와 평점의 관계\n",
    "plt.scatter(df['리뷰수'], df['평점'], alpha=0.6, color='purple')\n",
    "plt.title('리뷰 수와 평점의 관계', fontsize=14, fontweight='bold')\n",
    "plt.xlabel('리뷰 수', fontsize=12)\n",
    "plt.ylabel('평점', fontsize=12)\n",
    "plt.xscale('log')  # 로그 스케일 적용\n",
    "\n",
    "plt.tight_layout()\n",
    "plt.show()\n",
    "\n",
    "print(f\"평균 평점: {rating_items['평점'].mean():.2f}\")\n",
    "print(f\"평균 리뷰 수: {df['리뷰수'].mean():.0f}개\")"
   ]
  },
  {
   "cell_type": "markdown",
   "metadata": {},
   "source": [
    "## 5. 상위 순위 상품 특성 분석"
   ]
  },
  {
   "cell_type": "code",
   "execution_count": null,
   "metadata": {},
   "outputs": [],
   "source": [
    "# 상위 20위 vs 나머지 비교\n",
    "top20 = df.iloc[:20]\n",
    "others = df.iloc[20:]\n",
    "\n",
    "comparison_data = pd.DataFrame({\n",
    "    '상위 20위': [\n",
    "        top20['현재가격'].mean(),\n",
    "        top20['할인율'].mean(),\n",
    "        top20['평점'].mean(),\n",
    "        top20['리뷰수'].mean()\n",
    "    ],\n",
    "    '21-100위': [\n",
    "        others['현재가격'].mean(),\n",
    "        others['할인율'].mean(),\n",
    "        others['평점'].mean(),\n",
    "        others['리뷰수'].mean()\n",
    "    ]\n",
    "}, index=['평균 가격', '평균 할인율', '평균 평점', '평균 리뷰수'])\n",
    "\n",
    "# 정규화를 위해 각 지표를 0-1 범위로 스케일링\n",
    "normalized_data = comparison_data.copy()\n",
    "for idx in comparison_data.index:\n",
    "    max_val = comparison_data.loc[idx].max()\n",
    "    if max_val > 0:\n",
    "        normalized_data.loc[idx] = comparison_data.loc[idx] / max_val\n",
    "\n",
    "fig, (ax1, ax2) = plt.subplots(1, 2, figsize=(15, 6))\n",
    "\n",
    "# 막대 그래프\n",
    "normalized_data.plot(kind='bar', ax=ax1, color=['coral', 'skyblue'])\n",
    "ax1.set_title('상위 20위 vs 21-100위 비교 (정규화)', fontsize=14, fontweight='bold')\n",
    "ax1.set_xlabel('지표', fontsize=12)\n",
    "ax1.set_ylabel('정규화된 값', fontsize=12)\n",
    "ax1.set_xticklabels(ax1.get_xticklabels(), rotation=45, ha='right')\n",
    "ax1.legend()\n",
    "\n",
    "# 실제 값 표시 테이블\n",
    "ax2.axis('tight')\n",
    "ax2.axis('off')\n",
    "table_data = []\n",
    "for idx in comparison_data.index:\n",
    "    if idx == '평균 가격':\n",
    "        row = [idx, f\"{comparison_data.loc[idx, '상위 20위']:,.0f}원\", \n",
    "               f\"{comparison_data.loc[idx, '21-100위']:,.0f}원\"]\n",
    "    elif idx == '평균 할인율':\n",
    "        row = [idx, f\"{comparison_data.loc[idx, '상위 20위']:.1f}%\", \n",
    "               f\"{comparison_data.loc[idx, '21-100위']:.1f}%\"]\n",
    "    elif idx == '평균 평점':\n",
    "        row = [idx, f\"{comparison_data.loc[idx, '상위 20위']:.2f}\", \n",
    "               f\"{comparison_data.loc[idx, '21-100위']:.2f}\"]\n",
    "    else:\n",
    "        row = [idx, f\"{comparison_data.loc[idx, '상위 20위']:,.0f}개\", \n",
    "               f\"{comparison_data.loc[idx, '21-100위']:,.0f}개\"]\n",
    "    table_data.append(row)\n",
    "\n",
    "table = ax2.table(cellText=table_data, \n",
    "                  colLabels=['지표', '상위 20위', '21-100위'],\n",
    "                  cellLoc='center',\n",
    "                  loc='center')\n",
    "table.auto_set_font_size(False)\n",
    "table.set_fontsize(12)\n",
    "table.scale(1.2, 1.5)\n",
    "ax2.set_title('실제 값 비교', fontsize=14, fontweight='bold')\n",
    "\n",
    "plt.tight_layout()\n",
    "plt.show()"
   ]
  },
  {
   "cell_type": "markdown",
   "metadata": {},
   "source": [
    "## 6. 브랜드별 평균 가격 및 할인율"
   ]
  },
  {
   "cell_type": "code",
   "execution_count": null,
   "metadata": {},
   "outputs": [],
   "source": [
    "# 상위 10개 브랜드의 평균 가격과 할인율\n",
    "top_brands = df['브랜드'].value_counts().head(10).index\n",
    "brand_analysis = df[df['브랜드'].isin(top_brands)].groupby('브랜드').agg({\n",
    "    '현재가격': 'mean',\n",
    "    '할인율': 'mean',\n",
    "    '평점': 'mean',\n",
    "    '리뷰수': 'mean'\n",
    "}).round(2)\n",
    "\n",
    "fig, axes = plt.subplots(2, 2, figsize=(15, 12))\n",
    "\n",
    "# 평균 가격\n",
    "brand_analysis['현재가격'].sort_values(ascending=False).plot(kind='bar', ax=axes[0,0], color='lightblue')\n",
    "axes[0,0].set_title('브랜드별 평균 가격', fontsize=14, fontweight='bold')\n",
    "axes[0,0].set_xlabel('브랜드', fontsize=12)\n",
    "axes[0,0].set_ylabel('평균 가격 (원)', fontsize=12)\n",
    "axes[0,0].tick_params(axis='x', rotation=45)\n",
    "\n",
    "# 평균 할인율\n",
    "brand_analysis['할인율'].sort_values(ascending=False).plot(kind='bar', ax=axes[0,1], color='lightgreen')\n",
    "axes[0,1].set_title('브랜드별 평균 할인율', fontsize=14, fontweight='bold')\n",
    "axes[0,1].set_xlabel('브랜드', fontsize=12)\n",
    "axes[0,1].set_ylabel('평균 할인율 (%)', fontsize=12)\n",
    "axes[0,1].tick_params(axis='x', rotation=45)\n",
    "\n",
    "# 평균 평점\n",
    "brand_analysis['평점'].sort_values(ascending=False).plot(kind='bar', ax=axes[1,0], color='gold')\n",
    "axes[1,0].set_title('브랜드별 평균 평점', fontsize=14, fontweight='bold')\n",
    "axes[1,0].set_xlabel('브랜드', fontsize=12)\n",
    "axes[1,0].set_ylabel('평균 평점', fontsize=12)\n",
    "axes[1,0].tick_params(axis='x', rotation=45)\n",
    "\n",
    "# 평균 리뷰수\n",
    "brand_analysis['리뷰수'].sort_values(ascending=False).plot(kind='bar', ax=axes[1,1], color='coral')\n",
    "axes[1,1].set_title('브랜드별 평균 리뷰수', fontsize=14, fontweight='bold')\n",
    "axes[1,1].set_xlabel('브랜드', fontsize=12)\n",
    "axes[1,1].set_ylabel('평균 리뷰수', fontsize=12)\n",
    "axes[1,1].tick_params(axis='x', rotation=45)\n",
    "\n",
    "plt.tight_layout()\n",
    "plt.show()"
   ]
  },
  {
   "cell_type": "markdown",
   "metadata": {},
   "source": [
    "## 7. 주요 인사이트 및 결론"
   ]
  },
  {
   "cell_type": "code",
   "execution_count": null,
   "metadata": {},
   "outputs": [],
   "source": [
    "# 주요 인사이트 출력\n",
    "print(\"=== 무신사 랭킹 데이터 분석 주요 인사이트 ===\")\n",
    "print()\n",
    "print(\"1. 브랜드 분석\")\n",
    "print(f\"   - 가장 많은 상품을 보유한 브랜드: {df['브랜드'].value_counts().index[0]}\")\n",
    "print(f\"   - 상위 100개 중 {len(df['브랜드'].unique())}개의 브랜드가 진입\")\n",
    "print()\n",
    "print(\"2. 가격 분석\")\n",
    "print(f\"   - 평균 가격: {df['현재가격'].mean():,.0f}원\")\n",
    "print(f\"   - 가격 범위: {df['현재가격'].min():,.0f}원 ~ {df['현재가격'].max():,.0f}원\")\n",
    "print(f\"   - 5만원 이하 상품 비율: {(df['현재가격'] <= 50000).sum() / len(df) * 100:.1f}%\")\n",
    "print()\n",
    "print(\"3. 할인 분석\")\n",
    "print(f\"   - 할인 상품 비율: {(df['할인율'] > 0).sum() / len(df) * 100:.1f}%\")\n",
    "print(f\"   - 평균 할인율 (할인 상품만): {df[df['할인율'] > 0]['할인율'].mean():.1f}%\")\n",
    "print(f\"   - 30% 이상 할인 상품: {(df['할인율'] >= 30).sum()}개\")\n",
    "print()\n",
    "print(\"4. 고객 반응\")\n",
    "print(f\"   - 평균 평점: {df[df['평점'] > 0]['평점'].mean():.2f}점\")\n",
    "print(f\"   - 평균 리뷰수: {df['리뷰수'].mean():.0f}개\")\n",
    "print(f\"   - 리뷰 1000개 이상 상품: {(df['리뷰수'] >= 1000).sum()}개\")\n",
    "print()\n",
    "print(\"5. 상위 순위 특징\")\n",
    "print(f\"   - Top 20 평균 가격: {df.iloc[:20]['현재가격'].mean():,.0f}원\")\n",
    "print(f\"   - Top 20 평균 리뷰수: {df.iloc[:20]['리뷰수'].mean():,.0f}개\")"
   ]
  }
 ],
 "metadata": {
  "kernelspec": {
   "display_name": "Python 3",
   "language": "python",
   "name": "python3"
  },
  "language_info": {
   "codemirror_mode": {
    "name": "ipython",
    "version": 3
   },
   "file_extension": ".py",
   "mimetype": "text/x-python",
   "name": "python",
   "nbconvert_exporter": "python",
   "pygments_lexer": "ipython3",
   "version": "3.8.0"
  }
 },
 "nbformat": 4,
 "nbformat_minor": 4
}